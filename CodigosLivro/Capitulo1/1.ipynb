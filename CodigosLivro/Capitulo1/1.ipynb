{
 "cells": [
  {
   "cell_type": "code",
   "execution_count": 106,
   "metadata": {},
   "outputs": [
    {
     "data": {
      "text/plain": [
       "{0: [], 1: [], 2: [], 3: [], 4: [], 5: [], 6: [], 7: [], 8: [], 9: []}"
      ]
     },
     "execution_count": 106,
     "metadata": {},
     "output_type": "execute_result"
    }
   ],
   "source": [
    "#Codigos do livro, Usuarios do Site e relacionamentos \n",
    "#inicializar lista de dict de usuarios\n",
    "import matplotlib.pyplot as plt\n",
    "from collections import Counter\n",
    "users = [{\"id\": 0, \"name\": \"Hero\"},\n",
    "         {\"id\": 1, \"name\": \"Dunn\"},\n",
    "         {\"id\": 2, \"name\": \"Sue\"},\n",
    "         {\"id\": 3, \"name\": \"Chi\"},\n",
    "         {\"id\": 4, \"name\": \"Thor\"},\n",
    "         {\"id\": 5, \"name\": \"kate\"},\n",
    "         {\"id\": 6, \"name\": \"Clive\"},\n",
    "         {\"id\": 7, \"name\": \"hicks\"},\n",
    "         {\"id\": 8, \"name\": \"Devin\"},\n",
    "         {\"id\": 9, \"name\": \"klein\"}]\n",
    "\n",
    "#lista de Amizades por id\n",
    "friendships_pairs = [(0, 1), (0, 2), (1, 2), (1, 3), (2, 3), (3, 4),\n",
    "                     (4, 5), (5, 6), (5, 7), (6, 8), (7, 8), (8, 9)]\n",
    "\n",
    "#criando dict com uma lista vazia para cada id de usuario\n",
    "friendships = {user[\"id\"]: [] for user in users}\n",
    "friendships"
   ]
  },
  {
   "cell_type": "code",
   "execution_count": 107,
   "metadata": {},
   "outputs": [
    {
     "data": {
      "text/plain": [
       "{0: [1, 2],\n",
       " 1: [0, 2, 3],\n",
       " 2: [0, 1, 3],\n",
       " 3: [1, 2, 4],\n",
       " 4: [3, 5],\n",
       " 5: [4, 6, 7],\n",
       " 6: [5, 8],\n",
       " 7: [5, 8],\n",
       " 8: [6, 7, 9],\n",
       " 9: [8]}"
      ]
     },
     "execution_count": 107,
     "metadata": {},
     "output_type": "execute_result"
    }
   ],
   "source": [
    "#executando loop pelos pares de amigos\n",
    "for i,j in friendships_pairs:\n",
    "    friendships[i].append(j) # i recebe J como amigo\n",
    "    friendships[j].append(i) #j recebe I como amigo\n",
    "friendships\n",
    "\n"
   ]
  },
  {
   "cell_type": "code",
   "execution_count": 108,
   "metadata": {},
   "outputs": [
    {
     "data": {
      "text/plain": [
       "24"
      ]
     },
     "execution_count": 108,
     "metadata": {},
     "output_type": "execute_result"
    }
   ],
   "source": [
    "#contando numero maximo de amizades\n",
    "def number_of_friends(user):\n",
    "    user_id = user['id'] #user_id recebe o valor contido no usuario\n",
    "    friends_ids = friendships[user_id] #usando id para buscar amizades pela chave id do dict\n",
    "    return len(friends_ids) #retorna o tamanho da lista de amizades de cada id\n",
    "    \n",
    "total_connections = sum(number_of_friends(user) for user in users) #atribuindo a soma total a variavel de amostra\n",
    "total_connections\n"
   ]
  },
  {
   "cell_type": "markdown",
   "metadata": {},
   "source": [
    "calculando a media dos valores obtidos"
   ]
  },
  {
   "cell_type": "code",
   "execution_count": 109,
   "metadata": {},
   "outputs": [
    {
     "data": {
      "text/plain": [
       "2.4"
      ]
     },
     "execution_count": 109,
     "metadata": {},
     "output_type": "execute_result"
    }
   ],
   "source": [
    "#numero medio de conexoes\n",
    "num_user = len(users)\n",
    "avg_connections = total_connections / num_user\n",
    "avg_connections "
   ]
  },
  {
   "cell_type": "markdown",
   "metadata": {},
   "source": [
    "criando função para obter lista de amigos em friendships apartir de cada id em usuarios"
   ]
  },
  {
   "cell_type": "code",
   "execution_count": 110,
   "metadata": {},
   "outputs": [
    {
     "data": {
      "text/plain": [
       "{0: [2, 3, 1, 3],\n",
       " 1: [2, 0, 3, 2, 4],\n",
       " 2: [1, 0, 3, 1, 4],\n",
       " 3: [0, 2, 0, 1, 5],\n",
       " 4: [1, 2, 6, 7],\n",
       " 5: [3, 8, 8],\n",
       " 6: [4, 7, 7, 9],\n",
       " 7: [4, 6, 6, 9],\n",
       " 8: [5, 5],\n",
       " 9: [6, 7]}"
      ]
     },
     "execution_count": 110,
     "metadata": {},
     "output_type": "execute_result"
    }
   ],
   "source": [
    "#dict de amigos de cada usuario\n",
    "\n",
    "def num_amigos(user):\n",
    "\n",
    "    return [foaf_id for friend_id in friendships[user[\"id\"]]\n",
    "                    for foaf_id in friendships[friend_id]\n",
    "                    if foaf_id != user[\"id\"]]\n",
    "\n",
    "lista = {user[\"id\"] : num_amigos(user) for user in users}\n",
    "lista"
   ]
  },
  {
   "cell_type": "markdown",
   "metadata": {},
   "source": [
    "a lista de ids e amizades tem varios numeros repetidos, precisaremos deixar apenas valores sem repetição e criando funcionalidade de \"Pessoas que voce talvez conheça\", usaremos amigoas de amigos como pessoas a apresentar"
   ]
  },
  {
   "cell_type": "code",
   "execution_count": 111,
   "metadata": {},
   "outputs": [
    {
     "data": {
      "text/plain": [
       "{0: {1, 2, 3},\n",
       " 1: {0, 2, 3, 4},\n",
       " 2: {0, 1, 3, 4},\n",
       " 3: {0, 1, 2, 5},\n",
       " 4: {1, 2, 6, 7},\n",
       " 5: {3, 8},\n",
       " 6: {4, 7, 9},\n",
       " 7: {4, 6, 9},\n",
       " 8: {5},\n",
       " 9: {6, 7}}"
      ]
     },
     "execution_count": 111,
     "metadata": {},
     "output_type": "execute_result"
    }
   ],
   "source": [
    "#retirando valores repetidos e c\n",
    "for i in lista:\n",
    "    lista[i] = set(lista[i])\n",
    "lista"
   ]
  },
  {
   "cell_type": "markdown",
   "metadata": {},
   "source": [
    "fazendo com função e dict compreension"
   ]
  },
  {
   "cell_type": "code",
   "execution_count": 112,
   "metadata": {},
   "outputs": [
    {
     "data": {
      "text/plain": [
       "{0: {1, 2, 3},\n",
       " 1: {0, 2, 3, 4},\n",
       " 2: {0, 1, 3, 4},\n",
       " 3: {0, 1, 2, 5},\n",
       " 4: {1, 2, 6, 7},\n",
       " 5: {3, 8},\n",
       " 6: {4, 7, 9},\n",
       " 7: {4, 6, 9},\n",
       " 8: {5},\n",
       " 9: {6, 7}}"
      ]
     },
     "execution_count": 112,
     "metadata": {},
     "output_type": "execute_result"
    }
   ],
   "source": [
    "def amigos_amigos(user):\n",
    "    user_id = user[\"id\"]\n",
    "    return set(lista[user_id]) \n",
    "\n",
    "amigos = {user[\"id\"]: amigos_amigos(user) for user in users}\n",
    "amigos\n"
   ]
  },
  {
   "cell_type": "markdown",
   "metadata": {},
   "source": [
    "criando interesses comuns apartir de listas de amizade"
   ]
  },
  {
   "cell_type": "code",
   "execution_count": null,
   "metadata": {},
   "outputs": [],
   "source": [
    "interests = [\n",
    " (0, \"Hadoop\"), (0, \"Big Data\"), (0, \"HBase\"), (0, \"Java\"),\n",
    " (0, \"Spark\"), (0, \"Storm\"), (0, \"Cassandra\"),\n",
    " (1, \"NoSQL\"), (1, \"MongoDB\"), (1, \"Cassandra\"), (1, \"HBase\"),\n",
    " (1, \"Postgres\"), (2, \"Python\"), (2, \"scikit-learn\"), (2, \"scipy\"),\n",
    " (2, \"numpy\"), (2, \"statsmodels\"), (2, \"pandas\"), (3, \"R\"), (3, \"Python\"),\n",
    " (3, \"statistics\"), (3, \"regression\"), (3, \"probability\"),\n",
    " (4, \"machine learning\"), (4, \"regression\"), (4, \"decision trees\"),\n",
    " (4, \"libsvm\"), (5, \"Python\"), (5, \"R\"), (5, \"Java\"), (5, \"C++\"),\n",
    " (5, \"Haskell\"), (5, \"programming languages\"), (6, \"statistics\"),\n",
    " (6, \"probability\"), (6, \"mathematics\"), (6, \"theory\"),\n",
    " (7, \"machine learning\"), (7, \"scikit-learn\"), (7, \"Mahout\"),\n",
    " (7, \"neural networks\"), (8, \"neural networks\"), (8, \"deep learning\"),\n",
    " (8, \"Big Data\"), (8, \"artificial intelligence\"), (9, \"Hadoop\"),\n",
    " (9, \"Java\"), (9, \"MapReduce\"), (9, \"Big Data\")\n",
    "]"
   ]
  },
  {
   "cell_type": "code",
   "execution_count": null,
   "metadata": {},
   "outputs": [],
   "source": []
  }
 ],
 "metadata": {
  "kernelspec": {
   "display_name": "base",
   "language": "python",
   "name": "python3"
  },
  "language_info": {
   "codemirror_mode": {
    "name": "ipython",
    "version": 3
   },
   "file_extension": ".py",
   "mimetype": "text/x-python",
   "name": "python",
   "nbconvert_exporter": "python",
   "pygments_lexer": "ipython3",
   "version": "3.11.5"
  }
 },
 "nbformat": 4,
 "nbformat_minor": 2
}
