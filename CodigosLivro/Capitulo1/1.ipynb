{
 "cells": [
  {
   "cell_type": "code",
   "execution_count": 33,
   "metadata": {},
   "outputs": [
    {
     "data": {
      "text/plain": [
       "{0: [], 1: [], 2: [], 3: [], 4: [], 5: [], 6: [], 7: [], 8: [], 9: []}"
      ]
     },
     "execution_count": 33,
     "metadata": {},
     "output_type": "execute_result"
    }
   ],
   "source": [
    "#Codigos do livro, Usuarios do Site e relacionamentos \n",
    "#inicializar lista de dict de usuarios\n",
    "import matplotlib.pyplot as plt\n",
    "from collections import Counter\n",
    "users = [{\"id\": 0, \"name\": \"Hero\"},\n",
    "         {\"id\": 1, \"name\": \"Dunn\"},\n",
    "         {\"id\": 2, \"name\": \"Sue\"},\n",
    "         {\"id\": 3, \"name\": \"Chi\"},\n",
    "         {\"id\": 4, \"name\": \"Thor\"},\n",
    "         {\"id\": 5, \"name\": \"kate\"},\n",
    "         {\"id\": 6, \"name\": \"Clive\"},\n",
    "         {\"id\": 7, \"name\": \"hicks\"},\n",
    "         {\"id\": 8, \"name\": \"Devin\"},\n",
    "         {\"id\": 9, \"name\": \"klein\"}]\n",
    "\n",
    "#lista de Amizades por id\n",
    "friendships_pairs = [(0, 1), (0, 2), (1, 2), (1, 3), (2, 3), (3, 4),\n",
    "                     (4, 5), (5, 6), (5, 7), (6, 8), (7, 8), (8, 9)]\n",
    "\n",
    "#criando dict com uma lista vazia para cada id de usuario\n",
    "friendships = {user[\"id\"]: [] for user in users}\n",
    "friendships"
   ]
  },
  {
   "cell_type": "code",
   "execution_count": 34,
   "metadata": {},
   "outputs": [
    {
     "data": {
      "text/plain": [
       "{0: [1, 2],\n",
       " 1: [0, 2, 3],\n",
       " 2: [0, 1, 3],\n",
       " 3: [1, 2, 4],\n",
       " 4: [3, 5],\n",
       " 5: [4, 6, 7],\n",
       " 6: [5, 8],\n",
       " 7: [5, 8],\n",
       " 8: [6, 7, 9],\n",
       " 9: [8]}"
      ]
     },
     "execution_count": 34,
     "metadata": {},
     "output_type": "execute_result"
    }
   ],
   "source": [
    "#executando loop pelos pares de amigos\n",
    "for i,j in friendships_pairs:\n",
    "    friendships[i].append(j) # i recebe J como amigo\n",
    "    friendships[j].append(i) #j recebe I como amigo\n",
    "friendships\n",
    "\n"
   ]
  },
  {
   "cell_type": "code",
   "execution_count": 35,
   "metadata": {},
   "outputs": [
    {
     "data": {
      "text/plain": [
       "24"
      ]
     },
     "execution_count": 35,
     "metadata": {},
     "output_type": "execute_result"
    }
   ],
   "source": [
    "#contando numero maximo de amizades\n",
    "def number_of_friends(user):\n",
    "    user_id = user['id'] #user_id recebe o valor contido no usuario\n",
    "    friends_ids = friendships[user_id] #usando id para buscar amizades pela chave id do dict\n",
    "    return len(friends_ids) #retorna o tamanho da lista de amizades de cada id\n",
    "    \n",
    "total_connections = sum(number_of_friends(user) for user in users) #atribuindo a soma total a variavel de amostra\n",
    "total_connections\n"
   ]
  },
  {
   "cell_type": "markdown",
   "metadata": {},
   "source": [
    "calculando a media dos valores obtidos"
   ]
  },
  {
   "cell_type": "code",
   "execution_count": 36,
   "metadata": {},
   "outputs": [
    {
     "data": {
      "text/plain": [
       "2.4"
      ]
     },
     "execution_count": 36,
     "metadata": {},
     "output_type": "execute_result"
    }
   ],
   "source": [
    "#numero medio de conexoes\n",
    "num_user = len(users)\n",
    "avg_connections = total_connections / num_user\n",
    "avg_connections "
   ]
  },
  {
   "cell_type": "markdown",
   "metadata": {},
   "source": [
    "criando função para obter lista de amigos em friendships apartir de cada id em usuarios"
   ]
  },
  {
   "cell_type": "code",
   "execution_count": 37,
   "metadata": {},
   "outputs": [
    {
     "data": {
      "text/plain": [
       "{0: [2, 3, 1, 3],\n",
       " 1: [2, 0, 3, 2, 4],\n",
       " 2: [1, 0, 3, 1, 4],\n",
       " 3: [0, 2, 0, 1, 5],\n",
       " 4: [1, 2, 6, 7],\n",
       " 5: [3, 8, 8],\n",
       " 6: [4, 7, 7, 9],\n",
       " 7: [4, 6, 6, 9],\n",
       " 8: [5, 5],\n",
       " 9: [6, 7]}"
      ]
     },
     "execution_count": 37,
     "metadata": {},
     "output_type": "execute_result"
    }
   ],
   "source": [
    "#dict de amigos de cada usuario\n",
    "\n",
    "def num_amigos(user):\n",
    "\n",
    "    return [foaf_id for friend_id in friendships[user[\"id\"]]\n",
    "                    for foaf_id in friendships[friend_id]\n",
    "                    if foaf_id != user[\"id\"]]\n",
    "\n",
    "lista = {user[\"id\"] : num_amigos(user) for user in users}\n",
    "lista"
   ]
  },
  {
   "cell_type": "markdown",
   "metadata": {},
   "source": [
    "a lista de ids e amizades tem varios numeros repetidos, precisaremos deixar apenas valores sem repetição e criando funcionalidade de \"Pessoas que voce talvez conheça\", usaremos amigoas de amigos como pessoas a apresentar"
   ]
  },
  {
   "cell_type": "code",
   "execution_count": 38,
   "metadata": {},
   "outputs": [
    {
     "data": {
      "text/plain": [
       "{0: {1, 2, 3},\n",
       " 1: {0, 2, 3, 4},\n",
       " 2: {0, 1, 3, 4},\n",
       " 3: {0, 1, 2, 5},\n",
       " 4: {1, 2, 6, 7},\n",
       " 5: {3, 8},\n",
       " 6: {4, 7, 9},\n",
       " 7: {4, 6, 9},\n",
       " 8: {5},\n",
       " 9: {6, 7}}"
      ]
     },
     "execution_count": 38,
     "metadata": {},
     "output_type": "execute_result"
    }
   ],
   "source": [
    "#retirando valores repetidos e c\n",
    "for i in lista:\n",
    "    lista[i] = set(lista[i])\n",
    "lista"
   ]
  },
  {
   "cell_type": "markdown",
   "metadata": {},
   "source": [
    "fazendo com função e dict compreension"
   ]
  },
  {
   "cell_type": "code",
   "execution_count": 39,
   "metadata": {},
   "outputs": [
    {
     "data": {
      "text/plain": [
       "{0: {1, 2, 3},\n",
       " 1: {0, 2, 3, 4},\n",
       " 2: {0, 1, 3, 4},\n",
       " 3: {0, 1, 2, 5},\n",
       " 4: {1, 2, 6, 7},\n",
       " 5: {3, 8},\n",
       " 6: {4, 7, 9},\n",
       " 7: {4, 6, 9},\n",
       " 8: {5},\n",
       " 9: {6, 7}}"
      ]
     },
     "execution_count": 39,
     "metadata": {},
     "output_type": "execute_result"
    }
   ],
   "source": [
    "def amigos_amigos(user):\n",
    "    user_id = user[\"id\"]\n",
    "    return set(lista[user_id]) \n",
    "\n",
    "amigos = {user[\"id\"]: amigos_amigos(user) for user in users}\n",
    "amigos\n"
   ]
  },
  {
   "cell_type": "markdown",
   "metadata": {},
   "source": [
    "criando interesses comuns apartir de listas de amizade"
   ]
  },
  {
   "cell_type": "code",
   "execution_count": 40,
   "metadata": {},
   "outputs": [],
   "source": [
    "interests = [\n",
    " (0, \"Hadoop\"), (0, \"Big Data\"), (0, \"HBase\"), (0, \"Java\"),\n",
    " (0, \"Spark\"), (0, \"Storm\"), (0, \"Cassandra\"),\n",
    " (1, \"NoSQL\"), (1, \"MongoDB\"), (1, \"Cassandra\"), (1, \"HBase\"),\n",
    " (1, \"Postgres\"), (2, \"Python\"), (2, \"scikit-learn\"), (2, \"scipy\"),\n",
    " (2, \"numpy\"), (2, \"statsmodels\"), (2, \"pandas\"), (3, \"R\"), (3, \"Python\"),\n",
    " (3, \"statistics\"), (3, \"regression\"), (3, \"probability\"),\n",
    " (4, \"machine learning\"), (4, \"regression\"), (4, \"decision trees\"),\n",
    " (4, \"libsvm\"), (5, \"Python\"), (5, \"R\"), (5, \"Java\"), (5, \"C++\"),\n",
    " (5, \"Haskell\"), (5, \"programming languages\"), (6, \"statistics\"),\n",
    " (6, \"probability\"), (6, \"mathematics\"), (6, \"theory\"),\n",
    " (7, \"machine learning\"), (7, \"scikit-learn\"), (7, \"Mahout\"),\n",
    " (7, \"neural networks\"), (8, \"neural networks\"), (8, \"deep learning\"),\n",
    " (8, \"Big Data\"), (8, \"artificial intelligence\"), (9, \"Hadoop\"),\n",
    " (9, \"Java\"), (9, \"MapReduce\"), (9, \"Big Data\")\n",
    "]"
   ]
  },
  {
   "cell_type": "code",
   "execution_count": 41,
   "metadata": {},
   "outputs": [
    {
     "data": {
      "text/plain": [
       "defaultdict(list,\n",
       "            {0: ['Hadoop',\n",
       "              'Big Data',\n",
       "              'HBase',\n",
       "              'Java',\n",
       "              'Spark',\n",
       "              'Storm',\n",
       "              'Cassandra'],\n",
       "             1: ['NoSQL', 'MongoDB', 'Cassandra', 'HBase', 'Postgres'],\n",
       "             2: ['Python',\n",
       "              'scikit-learn',\n",
       "              'scipy',\n",
       "              'numpy',\n",
       "              'statsmodels',\n",
       "              'pandas'],\n",
       "             3: ['R', 'Python', 'statistics', 'regression', 'probability'],\n",
       "             4: ['machine learning', 'regression', 'decision trees', 'libsvm'],\n",
       "             5: ['Python',\n",
       "              'R',\n",
       "              'Java',\n",
       "              'C++',\n",
       "              'Haskell',\n",
       "              'programming languages'],\n",
       "             6: ['statistics', 'probability', 'mathematics', 'theory'],\n",
       "             7: ['machine learning',\n",
       "              'scikit-learn',\n",
       "              'Mahout',\n",
       "              'neural networks'],\n",
       "             8: ['neural networks',\n",
       "              'deep learning',\n",
       "              'Big Data',\n",
       "              'artificial intelligence'],\n",
       "             9: ['Hadoop', 'Java', 'MapReduce', 'Big Data']})"
      ]
     },
     "execution_count": 41,
     "metadata": {},
     "output_type": "execute_result"
    }
   ],
   "source": [
    "\n",
    "from collections import defaultdict\n",
    "# as chaves são interesses, os valores são listas de user_ids com interests\n",
    "user_ids_by_interest = defaultdict(list)\n",
    "for user_id, interest in interests:\n",
    " user_ids_by_interest[interest].append(user_id)\n",
    " # as chaves são user_ids, os valores são as listas de interests para aquele user_id\n",
    "interests_by_user_id = defaultdict(list)\n",
    "for user_id, interest in interests:\n",
    " interests_by_user_id[user_id].append(interest)\n",
    " def most_common_interests_with(user):\n",
    "    return Counter(interested_user_id for interest in interests_by_user_id[user[\"id\"]]\n",
    "                        for interested_user_id in user_ids_by_interest[interest]\n",
    "                        if interested_user_id != user[\"id\"])\n",
    " \n",
    "interests_by_user_id"
   ]
  },
  {
   "cell_type": "code",
   "execution_count": 55,
   "metadata": {},
   "outputs": [
    {
     "data": {
      "text/plain": [
       "Counter({9: 3, 1: 2, 8: 1, 5: 1})"
      ]
     },
     "execution_count": 55,
     "metadata": {},
     "output_type": "execute_result"
    }
   ],
   "source": [
    "def most_common_interests_with(user):\n",
    "\n",
    "    return Counter( interest_user_id for interest in interests_by_user_id[user[\"id\"]]\n",
    "        for interest_user_id in user_ids_by_interest[interest]\n",
    "        if interest_user_id != user[\"id\"]\n",
    "    )\n",
    "\n",
    "teste = most_common_interests_with(users[0])\n",
    "teste"
   ]
  }
 ],
 "metadata": {
  "kernelspec": {
   "display_name": "base",
   "language": "python",
   "name": "python3"
  },
  "language_info": {
   "codemirror_mode": {
    "name": "ipython",
    "version": 3
   },
   "file_extension": ".py",
   "mimetype": "text/x-python",
   "name": "python",
   "nbconvert_exporter": "python",
   "pygments_lexer": "ipython3",
   "version": "3.11.5"
  }
 },
 "nbformat": 4,
 "nbformat_minor": 2
}
