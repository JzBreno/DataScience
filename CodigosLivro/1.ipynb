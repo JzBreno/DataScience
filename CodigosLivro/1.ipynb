{
 "cells": [
  {
   "cell_type": "code",
   "execution_count": 13,
   "metadata": {},
   "outputs": [],
   "source": [
    "#Codigos do livro, Usuarios do Site e relacionamentos \n",
    "#inicializar lista de dict de usuarios\n",
    "users = [{\"id\": 0, \"name\": \"Hero\"},\n",
    "         {\"id\": 1, \"name\": \"Dunn\"},\n",
    "         {\"id\": 2, \"name\": \"Sue\"},\n",
    "         {\"id\": 3, \"name\": \"Chi\"},\n",
    "         {\"id\": 4, \"name\": \"Thor\"},\n",
    "         {\"id\": 5, \"name\": \"kate\"},\n",
    "         {\"id\": 6, \"name\": \"Clive\"},\n",
    "         {\"id\": 7, \"name\": \"hicks\"},\n",
    "         {\"id\": 8, \"name\": \"Devin\"},\n",
    "         {\"id\": 9, \"name\": \"klein\"}]\n",
    "\n",
    "#lista de Amizades por id\n",
    "friendships_pairs = [(0, 1), (0, 2), (1, 2), (1, 3), (2, 3), (3, 4),\n",
    "                     (4, 5), (5, 6), (5, 7), (6, 8), (7, 8), (8, 9)]\n",
    "\n",
    "#criando dict com uma lista vazia para cada id de usuario\n",
    "friendships = {user[\"id\"]: [] for user in users}"
   ]
  },
  {
   "cell_type": "code",
   "execution_count": 14,
   "metadata": {},
   "outputs": [],
   "source": [
    "#executando loop pelos pares de amigos\n",
    "for i,j in friendships_pairs:\n",
    "    friendships[i].append(j) # i recebe J como amigo\n",
    "    friendships[j].append(i) #j recebe I como amigo\n"
   ]
  },
  {
   "cell_type": "code",
   "execution_count": 15,
   "metadata": {},
   "outputs": [
    {
     "data": {
      "text/plain": [
       "24"
      ]
     },
     "execution_count": 15,
     "metadata": {},
     "output_type": "execute_result"
    }
   ],
   "source": [
    "#contando numero maximo de amizades\n",
    "def number_of_friends(user):\n",
    "    user_id = user['id'] #user_id recebe o valor contido no usuario\n",
    "    friends_ids = friendships[user_id] #usando id para buscar amizades pela chave id do dict\n",
    "    return len(friends_ids) #retorna o tamanho da lista de amizades de cada id\n",
    "    \n",
    "total_connections = sum(number_of_friends(user) for user in users) #atribuindo a soma total a variavel de amostra\n",
    "total_connections\n"
   ]
  },
  {
   "cell_type": "code",
   "execution_count": 16,
   "metadata": {},
   "outputs": [
    {
     "data": {
      "text/plain": [
       "2.4"
      ]
     },
     "execution_count": 16,
     "metadata": {},
     "output_type": "execute_result"
    }
   ],
   "source": [
    "#numero medio de conexoes\n",
    "num_user = len(users)\n",
    "avg_connections = total_connections / num_user\n",
    "avg_connections "
   ]
  }
 ],
 "metadata": {
  "kernelspec": {
   "display_name": "base",
   "language": "python",
   "name": "python3"
  },
  "language_info": {
   "codemirror_mode": {
    "name": "ipython",
    "version": 3
   },
   "file_extension": ".py",
   "mimetype": "text/x-python",
   "name": "python",
   "nbconvert_exporter": "python",
   "pygments_lexer": "ipython3",
   "version": "3.11.5"
  }
 },
 "nbformat": 4,
 "nbformat_minor": 2
}
