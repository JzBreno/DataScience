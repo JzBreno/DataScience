{
 "cells": [
  {
   "cell_type": "code",
   "execution_count": 3,
   "metadata": {},
   "outputs": [
    {
     "data": {
      "text/plain": [
       "[32,\n",
       " 99,\n",
       " 1,\n",
       " 55,\n",
       " 86,\n",
       " 84,\n",
       " 93,\n",
       " 84,\n",
       " 43,\n",
       " 92,\n",
       " 2,\n",
       " 63,\n",
       " 30,\n",
       " 81,\n",
       " 8,\n",
       " 0,\n",
       " 15,\n",
       " 66,\n",
       " 37,\n",
       " 38,\n",
       " 45,\n",
       " 29,\n",
       " 98,\n",
       " 7,\n",
       " 38,\n",
       " 73,\n",
       " 41,\n",
       " 48,\n",
       " 93,\n",
       " 34,\n",
       " 21,\n",
       " 17,\n",
       " 18,\n",
       " 40,\n",
       " 3,\n",
       " 31,\n",
       " 35,\n",
       " 37,\n",
       " 31,\n",
       " 57,\n",
       " 43,\n",
       " 88,\n",
       " 6,\n",
       " 80,\n",
       " 78,\n",
       " 55,\n",
       " 3,\n",
       " 24,\n",
       " 71,\n",
       " 32,\n",
       " 34,\n",
       " 93,\n",
       " 86,\n",
       " 72,\n",
       " 24,\n",
       " 6,\n",
       " 96,\n",
       " 84,\n",
       " 60,\n",
       " 34,\n",
       " 26,\n",
       " 62,\n",
       " 92,\n",
       " 39,\n",
       " 93,\n",
       " 85,\n",
       " 83,\n",
       " 23,\n",
       " 100,\n",
       " 66,\n",
       " 57,\n",
       " 43,\n",
       " 83,\n",
       " 97,\n",
       " 67,\n",
       " 64,\n",
       " 81,\n",
       " 41,\n",
       " 33,\n",
       " 18,\n",
       " 28,\n",
       " 75,\n",
       " 68,\n",
       " 5,\n",
       " 20,\n",
       " 23,\n",
       " 54,\n",
       " 15,\n",
       " 88,\n",
       " 47,\n",
       " 28,\n",
       " 19,\n",
       " 6,\n",
       " 6,\n",
       " 49,\n",
       " 64,\n",
       " 7,\n",
       " 35,\n",
       " 80,\n",
       " 14]"
      ]
     },
     "execution_count": 3,
     "metadata": {},
     "output_type": "execute_result"
    }
   ],
   "source": [
    "import numpy as np\n",
    "import random as rd\n",
    "from matplotlib import pyplot as plt\n",
    "np.random.seed(25)\n",
    "lista =  [rd.randint(0,100) for x in range(100)]\n",
    "lista"
   ]
  },
  {
   "cell_type": "code",
   "execution_count": 6,
   "metadata": {},
   "outputs": [
    {
     "ename": "TypeError",
     "evalue": "bar() missing 1 required positional argument: 'height'",
     "output_type": "error",
     "traceback": [
      "\u001b[1;31m---------------------------------------------------------------------------\u001b[0m",
      "\u001b[1;31mTypeError\u001b[0m                                 Traceback (most recent call last)",
      "Cell \u001b[1;32mIn[6], line 1\u001b[0m\n\u001b[1;32m----> 1\u001b[0m plt\u001b[38;5;241m.\u001b[39mbar(lista)\n",
      "\u001b[1;31mTypeError\u001b[0m: bar() missing 1 required positional argument: 'height'"
     ]
    }
   ],
   "source": [
    "plt.bar(lista)"
   ]
  }
 ],
 "metadata": {
  "kernelspec": {
   "display_name": "base",
   "language": "python",
   "name": "python3"
  },
  "language_info": {
   "codemirror_mode": {
    "name": "ipython",
    "version": 3
   },
   "file_extension": ".py",
   "mimetype": "text/x-python",
   "name": "python",
   "nbconvert_exporter": "python",
   "pygments_lexer": "ipython3",
   "version": "3.11.5"
  }
 },
 "nbformat": 4,
 "nbformat_minor": 2
}
