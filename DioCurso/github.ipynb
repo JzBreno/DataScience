{
 "cells": [
  {
   "cell_type": "code",
   "execution_count": 2,
   "metadata": {},
   "outputs": [
    {
     "name": "stdout",
     "output_type": "stream",
     "text": [
      "Bem vindo ao curso de PYTHON!\n"
     ]
    }
   ],
   "source": [
    "import pandas as plt \n",
    "import matplotlib.pyplot as plt \n",
    "\n",
    "lista = [i for i in range(10)]\n",
    "teste = [i for i in range(10)]\n",
    "\n",
    "curso = \"Python\"                                                     \n",
    "print(f\"Bem vindo ao curso de {curso.upper()}!\")    "
   ]
  },
  {
   "cell_type": "markdown",
   "metadata": {},
   "source": [
    "### Listas\n",
    "\n",
    ".copy() copia\n",
    ".count() conta algo\n",
    ".extend() adicionallgo a lista\n",
    ".index() mostra index \n",
    ".pop() remove ultimo elemento\n",
    ".remove() remove diretamente um item, o primeiro que coloco\n",
    ".reverse() coloca ao contrario\n",
    ".sort() reordena a lista\n",
    ".len() tamanho\n",
    "sorted() ordenar iteraveis - metodo built in"
   ]
  },
  {
   "cell_type": "code",
   "execution_count": 4,
   "metadata": {},
   "outputs": [
    {
     "name": "stdout",
     "output_type": "stream",
     "text": [
      "False\n"
     ]
    }
   ],
   "source": [
    "a=  [n**2 if n > 6 else n for n in range(10) if n % 2 == 0] \n",
    "carros = (\"gol\")\n",
    "print(isinstance(carros, tuple))"
   ]
  },
  {
   "cell_type": "markdown",
   "metadata": {},
   "source": [
    "# Dict \n",
    "\n",
    "#### .fromkeys() ver keys que necessito\n",
    "#### .get() oegar valor de cahves\n",
    "#### .pop() remove valor com a chave\n",
    "#### .popitem() sem informar chave\n",
    "#### .setdefault() se atributo existir, retorna valor, senao add e poe valor\n",
    "#### .update() atualiza um dicionario com outro dicionario"
   ]
  },
  {
   "cell_type": "code",
   "execution_count": 6,
   "metadata": {},
   "outputs": [
    {
     "name": "stdout",
     "output_type": "stream",
     "text": [
      "None\n"
     ]
    }
   ],
   "source": [
    "carro = {\"marca\": \"Fiat\", \"modelo\": \"palio\", \"placa\": \"ABD-9826\"}\n",
    "print(carro.get(\"motor\"))"
   ]
  },
  {
   "cell_type": "code",
   "execution_count": 13,
   "metadata": {},
   "outputs": [
    {
     "name": "stdout",
     "output_type": "stream",
     "text": [
      "('python', 2022)\n",
      "{'curso': 'dio'}\n"
     ]
    }
   ],
   "source": [
    "def funcao(*args, **kw):\n",
    "    print(args)\n",
    "    print(kw)\n",
    "a = funcao(\"python\", 2022, curso=\"dio\")\n"
   ]
  }
 ],
 "metadata": {
  "kernelspec": {
   "display_name": "base",
   "language": "python",
   "name": "python3"
  },
  "language_info": {
   "codemirror_mode": {
    "name": "ipython",
    "version": 3
   },
   "file_extension": ".py",
   "mimetype": "text/x-python",
   "name": "python",
   "nbconvert_exporter": "python",
   "pygments_lexer": "ipython3",
   "version": "3.11.5"
  }
 },
 "nbformat": 4,
 "nbformat_minor": 2
}
